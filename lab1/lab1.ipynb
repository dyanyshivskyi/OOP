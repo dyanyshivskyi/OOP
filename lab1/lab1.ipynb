{
 "cells": [
  {
   "cell_type": "code",
   "execution_count": 1,
   "metadata": {},
   "outputs": [
    {
     "name": "stdout",
     "output_type": "stream",
     "text": [
      "Данило почав програмувати 05.12.2024 22:18:03. Львів — чудове місто!\n"
     ]
    }
   ],
   "source": [
    "from datetime import datetime\n",
    "\n",
    "name = \"Данило\"\n",
    "location = \"Львів\"\n",
    "activity = \"програмувати\"\n",
    "\n",
    "# Отримуємо поточний час у форматі \"день.місяць.рік години:хвилини\"\n",
    "current_time = datetime.now().strftime(\"%d.%m.%Y %H:%M:%S\")\n",
    "\n",
    "print(f\"{name} почав {activity} {current_time}. {location} — чудове місто!\")\n"
   ]
  }
 ],
 "metadata": {
  "kernelspec": {
   "display_name": "Python 3",
   "language": "python",
   "name": "python3"
  },
  "language_info": {
   "codemirror_mode": {
    "name": "ipython",
    "version": 3
   },
   "file_extension": ".py",
   "mimetype": "text/x-python",
   "name": "python",
   "nbconvert_exporter": "python",
   "pygments_lexer": "ipython3",
   "version": "3.13.0"
  }
 },
 "nbformat": 4,
 "nbformat_minor": 2
}
